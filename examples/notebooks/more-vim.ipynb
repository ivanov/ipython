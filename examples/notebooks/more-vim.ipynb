{
 "metadata": {
  "name": ""
 },
 "nbformat": 3,
 "nbformat_minor": 0,
 "worksheets": [
  {
   "cells": [
    {
     "cell_type": "markdown",
     "metadata": {},
     "source": [
      "more vim!\n",
      "========="
     ]
    },
    {
     "cell_type": "markdown",
     "metadata": {},
     "source": [
      "Most important - entering command mode\n",
      "---\n",
      "\n",
      "One of the most important keys is how you get to command mode. Indeed, it's not\n",
      "so much how you get into command mode, as it is how you  **escape** from other\n",
      "modes ;) \n",
      "\n",
      "By default, `Esc` will enter command mode, but the more seasoned vim users have some tricks up their sleeves to not have to move our hands all the way to the corner of the keyboard. As far as *I'm* concerned, the **right** way is to rebind your `Caps` key to be another `Ctrl`, and then type `Ctrl-[`, which is the equivalent of `Esc` in the terminal.\n",
      "\n",
      "you'll note that `Ctrl-[` works in codemirror ( [you're welcome ;)](https://github.com/marijnh/CodeMirror/commit/95520892742eacd9d560084f00ef5ec0376b0bba) )\n",
      "\n",
      "Note, there's current a bug where `Ctrl-[` doesn't leave visual mode, I've submitted a [tiny patch upstream](https://github.com/marijnh/CodeMirror/pull/2206)\n",
      "\n",
      "that's in, but it doesn't work in the notebook.\n"
     ]
    },
    {
     "cell_type": "markdown",
     "metadata": {},
     "source": [
      "This is a markdown cell which contains script tags and the bits of code which will be reused in the cells which follow.\n",
      "\n",
      "```javascript\n",
      "var cmd = IPython.keyboard_manager.command_shortcuts;\n",
      "var edit = IPython.keyboard_manager.edit_shortcuts;\n",
      "var def_cmd = IPython.default_command_shortcuts;\n",
      "var def_edit = IPython.default_edit_shortcuts;\n",
      "```\n",
      "<script>\n",
      "var cmd = IPython.keyboard_manager.command_shortcuts;\n",
      "var edit = IPython.keyboard_manager.edit_shortcuts;\n",
      "var def_cmd = IPython.default_command_shortcuts;\n",
      "var def_edit = IPython.default_edit_shortcuts;\n",
      "\n",
      "    function C() { return IPython.notebook.get_selected_cell().code_mirror; };\n",
      "function to(mode) {\n",
      "    var mode = mode || 'vim'\n",
      "    // first let's apply vim mode to all current cells\n",
      "    function to_mode(c) { return c.code_mirror.setOption('keyMap', mode);};\n",
      "    IPython.notebook.get_cells().map(to_mode);\n",
      "    // apply the mode to future cells created\n",
      "    IPython.Cell.options_default.cm_config.keyMap = mode;\n",
      "}\n",
      "$.getScript(\"/static/components/codemirror/keymap/vim.js\")\n",
      "$\n",
      "// on all code mirror instances on this page\n",
      "function all_cm(f) {\n",
      "    // apply f to every code mirror instance. f takes one parameter\n",
      "    IPython.notebook.get_cells().map(function (c) { f(c.code_mirror); } );\n",
      "}\n",
      "</script>"
     ]
    },
    {
     "cell_type": "code",
     "collapsed": false,
     "input": [
      "%%javascript\n",
      "to('vim')"
     ],
     "language": "python",
     "metadata": {},
     "outputs": [
      {
       "javascript": [
        "to('vim')"
       ],
       "metadata": {},
       "output_type": "display_data",
       "text": [
        "<IPython.core.display.Javascript at 0x268a3d0>"
       ]
      }
     ],
     "prompt_number": 205
    },
    {
     "cell_type": "code",
     "collapsed": false,
     "input": [
      "%%javascript\n",
      "to('default')"
     ],
     "language": "python",
     "metadata": {},
     "outputs": [
      {
       "javascript": [
        "to('default')"
       ],
       "metadata": {},
       "output_type": "display_data",
       "text": [
        "<IPython.core.display.Javascript at 0x268a510>"
       ]
      }
     ],
     "prompt_number": 162
    },
    {
     "cell_type": "code",
     "collapsed": false,
     "input": [
      "%%javascript\n",
      "// On blur, make sure we go back to command mode for CodeMirror (in case user clicked away)\n",
      "  // TODO: Make this permanent - how to get CodeMirror to do this for new cells created after\n",
      "all_cm( function (cm) {\n",
      "    cm.on('blur', function(cm) {\n",
      "        // TODO: I wish I understood a better way to do this, but fake pressing Escape work\n",
      "        CodeMirror.keyMap['vim-insert']['Esc'](cm);\n",
      "        CodeMirror.keyMap['vim']['Esc'](cm);\n",
      "    });\n",
      "});"
     ],
     "language": "python",
     "metadata": {},
     "outputs": [
      {
       "javascript": [
        "// On blur, make sure we go back to command mode for CodeMirror (in case user clicked away)\n",
        "// TODO: Make this permanent - how to get CodeMirror to do this for new cells created after\n",
        "all_cm( function (cm) {\n",
        "    cm.on('blur', function(cm) {\n",
        "        // TODO: I wish I understood a better way to do this, but fake pressing Escape work\n",
        "        CodeMirror.keyMap['vim-insert']['Esc'](cm);\n",
        "        CodeMirror.keyMap['vim']['Esc'](cm);\n",
        "    });\n",
        "});"
       ],
       "metadata": {},
       "output_type": "display_data",
       "text": [
        "<IPython.core.display.Javascript at 0x268a410>"
       ]
      }
     ],
     "prompt_number": 206
    },
    {
     "cell_type": "code",
     "collapsed": false,
     "input": [
      "%%javascript\n",
      "// N.B. This code looks fairly simple, but it took me forever to \n",
      "// figure out how to do this, \n",
      "// this is how you define keyboard shortcuts for codemirror\n",
      "\n",
      "CodeMirror.commands.leaveInsertOrEdit = function (cm) {\n",
      "    if ( cm.state.vim.insertMode )\n",
      "    {\n",
      "        // do magic here to get out of insert mode\n",
      "        CodeMirror.keyMap['vim-insert']['Esc'](cm);\n",
      "    }\n",
      "    else {\n",
      "        IPython.notebook.command_mode();\n",
      "        IPython.notebook.focus_cell();\n",
      "    }\n",
      "}\n",
      "        \n",
      "//C().options.extraKeys['Ctrl-['] = 'leaveInsertOrEdit';\n",
      "all_cm( function (cm) {\n",
      "    // TODO: make this change permanent\n",
      "    cm.options.extraKeys['Ctrl-['] = 'leaveInsertOrEdit';\n",
      "   cm.options.extraKeys['Ctrl-W'] = 'leaveInsertOrEdit';\n",
      "})\n",
      "// 'i' by default interrupts the kernel (what Ctrl-C does at the terminal)\n",
      "cmd.remove_shortcut('i');\n",
      "cmd.add_shortcut('i', def_cmd.enter);\n",
      "edit.add_shortcut('ctrl+w', function (e) { e.preventDefault(); });\n",
      "edit.remove_shortcut('j');\n",
      "//edit.add_shortcut('j', function (e) { \n",
      "//    vim = C().state.vim\n",
      "//    if ( !vim.insertMode && !vim.visualMode ) {\n",
      "//       def_edit['up'].handler(e);\n",
      "//    }\n",
      "//    });\n",
      "//CodeMirror.keyMap['vim']['Ctrl-['] = function (cm) { IPython.notebook.command_mode(); IPython.notebook.focus_cell(); };"
     ],
     "language": "python",
     "metadata": {},
     "outputs": [
      {
       "javascript": [
        "// N.B. This code looks fairly simple, but it took me forever to \n",
        "// figure out how to do this, \n",
        "// this is how you define keyboard shortcuts for codemirror\n",
        "\n",
        "CodeMirror.commands.leaveInsertOrEdit = function (cm) {\n",
        "    if ( cm.state.vim.insertMode )\n",
        "    {\n",
        "        // do magic here to get out of insert mode\n",
        "        CodeMirror.keyMap['vim-insert']['Esc'](cm);\n",
        "    }\n",
        "    else {\n",
        "        IPython.notebook.command_mode();\n",
        "        IPython.notebook.focus_cell();\n",
        "    }\n",
        "}\n",
        "        \n",
        "//C().options.extraKeys['Ctrl-['] = 'leaveInsertOrEdit';\n",
        "all_cm( function (cm) {\n",
        "    // TODO: make this change permanent\n",
        "    cm.options.extraKeys['Ctrl-['] = 'leaveInsertOrEdit';\n",
        "   cm.options.extraKeys['Ctrl-W'] = 'leaveInsertOrEdit';\n",
        "})\n",
        "// 'i' by default interrupts the kernel (what Ctrl-C does at the terminal)\n",
        "cmd.remove_shortcut('i');\n",
        "cmd.add_shortcut('i', def_cmd.enter);\n",
        "edit.add_shortcut('ctrl+w', function (e) { e.preventDefault(); });\n",
        "edit.remove_shortcut('j');\n",
        "//edit.add_shortcut('j', function (e) { \n",
        "//    vim = C().state.vim\n",
        "//    if ( !vim.insertMode && !vim.visualMode ) {\n",
        "//       def_edit['up'].handler(e);\n",
        "//    }\n",
        "//    });\n",
        "//CodeMirror.keyMap['vim']['Ctrl-['] = function (cm) { IPython.notebook.command_mode(); IPython.notebook.focus_cell(); };"
       ],
       "metadata": {},
       "output_type": "display_data",
       "text": [
        "<IPython.core.display.Javascript at 0x268a510>"
       ]
      }
     ],
     "prompt_number": 207
    },
    {
     "cell_type": "code",
     "collapsed": false,
     "input": [],
     "language": "python",
     "metadata": {},
     "outputs": []
    },
    {
     "cell_type": "code",
     "collapsed": false,
     "input": [
      "%%javascript"
     ],
     "language": "python",
     "metadata": {},
     "outputs": [
      {
       "javascript": [
        "$.bind('keypress', function(e) {\n",
        "\t\tvar key = (e.keyCode ? e.keyCode : e.charCode);\n",
        "        console.log(key, e.ctrlKey);\n",
        "\t\tif (key == '119' && e.ctrlKey) {\n",
        "\t\t\treturn false;\n",
        "\t\t}\n",
        "\t});"
       ],
       "metadata": {},
       "output_type": "display_data",
       "text": [
        "<IPython.core.display.Javascript at 0x268a510>"
       ]
      }
     ],
     "prompt_number": 188
    },
    {
     "cell_type": "code",
     "collapsed": false,
     "input": [
      "%%javascript\n",
      "\n",
      "all_cm( function (cm) {\n",
      "    cm.on('vim-mode-change', function() {\n",
      "        console.log(cm.options.keyMap);\n",
      "    });\n",
      "});"
     ],
     "language": "python",
     "metadata": {},
     "outputs": [
      {
       "javascript": [
        "\n",
        "all_cm( function (cm) {\n",
        "    cm.on('vim-mode-change', function() {\n",
        "        console.log(cm.options.keyMap);\n",
        "    });\n",
        "});"
       ],
       "metadata": {},
       "output_type": "display_data",
       "text": [
        "<IPython.core.display.Javascript at 0x268a490>"
       ]
      }
     ],
     "prompt_number": 77
    },
    {
     "cell_type": "code",
     "collapsed": false,
     "input": [
      "%%javascript\n",
      "\n",
      "// we'll add shortcuts here as we go along *\n",
      "var ours = {};\n",
      "var edit = IPython.keyboard_manager.edit_shortcuts;\n",
      "var def_edit = IPython.default_edit_shortcuts;\n",
      "var def_cmd = IPython.default_command_shortcuts;\n",
      "var cmd = IPython.keyboard_manager.command_shortcuts;\n",
      "\n",
      "// there's a problem here, Ctrl-[ is already handled by CodeMirror by the time we get it\n",
      "// CodeMirror issues signals on mode change, so we have to hook into that to get Ctrl-[\n",
      "// As a possible alternative here, do a keyHandled for ctrl-[\n",
      "C().on('vim-mode-change', function() {\n",
      "    console.log(C().options.keyMap, ' - hello');\n",
      "    if (C().options.keyMap == 'vim') {\n",
      "        console.log('would have added a shortcut');\n",
      "        var count = 0;\n",
      "        edit.add_shortcut('ctrl+[', function(e) { \n",
      "            // This is a bit of a hack, because if we just enable this shortcut here,\n",
      "            // we will immediately enter NC, \n",
      "            \n",
      "            if (count > 0) {\n",
      "                IPython.notebook.command_mode();\n",
      "                IPython.notebook.focus_cell();\n",
      "                //def_edit.esc.handler();\n",
      "                console.log('lies!'); \n",
      "                edit.add_shortcut('ctrl+[', def_edit.esc);\n",
      "            }\n",
      "            count += 1;\n",
      "        }); \n",
      "    }\n",
      "    else {\n",
      "       edit.remove_shortcut('ctrl+['); \n",
      "       //console.log('would have removed a shortcut');\n",
      "    }\n",
      "});\n",
      "\n",
      "\n",
      "\n",
      "// make sure we enter command mode when we lose focus\n",
      "C().on('blur', function(cm) { console.log(\"cm blurred\"); });"
     ],
     "language": "python",
     "metadata": {},
     "outputs": []
    },
    {
     "cell_type": "code",
     "collapsed": false,
     "input": [
      "%%javascript\n",
      "C().on('vim-mode-change', function(e) {\n",
      "    if (e.mode == 'insert') {\n",
      "        console.log(e);\n",
      "        console.log('helo');\n",
      "    }\n",
      "    console.log(e.mode);\n",
      "});"
     ],
     "language": "python",
     "metadata": {},
     "outputs": [
      {
       "javascript": [
        "var xi;\n",
        "C().on('vim-mode-change', function(e) {\n",
        "    if (e.mode == 'insert') {\n",
        "        console.log(e);\n",
        "        iconsole.log('helo');\n",
        "    }\n",
        "    console.log(e.mode);\n",
        "});"
       ],
       "metadata": {},
       "output_type": "display_data",
       "text": [
        "<IPython.core.display.Javascript at 0x268a550>"
       ]
      }
     ],
     "prompt_number": 126
    },
    {
     "cell_type": "code",
     "collapsed": false,
     "input": [
      "%%javascript\n",
      "edit.remove_shortcut('ctrl+[');"
     ],
     "language": "python",
     "metadata": {},
     "outputs": [
      {
       "javascript": [
        "edit.remove_shortcut('ctrl+[');"
       ],
       "metadata": {},
       "output_type": "display_data",
       "text": [
        "<IPython.core.display.Javascript at 0x22cd390>"
       ]
      }
     ],
     "prompt_number": 107
    },
    {
     "cell_type": "markdown",
     "metadata": {},
     "source": [
      "nested vi-like interfaces\n",
      "-----------\n",
      "\n",
      "With the modal UI merged in IPython, we now have the ability to make the notebook experience more vi-like.\n",
      "\n",
      "Now, let's put CodeMirror into vim mode, for an experience [sjobeek](https://github.com/sjobeek) has coined as [\"vimception\"](https://github.com/ipython/ipython/issues/4798)\n"
     ]
    },
    {
     "cell_type": "code",
     "collapsed": false,
     "input": [
      "%%javascript\n",
      "\n",
      "            \n",
      "function to(mode) {\n",
      "    var mode = mode || 'vim'\n",
      "    // first let's apply vim mode to all current cells\n",
      "    function to_mode(c) { return c.code_mirror.setOption('keyMap', mode);};\n",
      "    IPython.notebook.get_cells().map(to_mode);\n",
      "    // apply the mode to future cells created\n",
      "    IPython.Cell.options_default.cm_config.keyMap = mode;\n",
      "}\n",
      "\n",
      "//vim mode requires an extra little bit of javascript, so let's fetch that\n",
      "$.getScript(\"/static/components/codemirror/keymap/vim.js\", function() {to('vim');} );\n",
      "\n"
     ],
     "language": "python",
     "metadata": {},
     "outputs": [
      {
       "javascript": [
        "\n",
        "            \n",
        "function to(mode) {\n",
        "    var mode = mode || 'vim'\n",
        "    // first let's apply vim mode to all current cells\n",
        "    function to_mode(c) { return c.code_mirror.setOption('keyMap', mode);};\n",
        "    IPython.notebook.get_cells().map(to_mode);\n",
        "    // apply the mode to future cells created\n",
        "    IPython.Cell.options_default.cm_config.keyMap = mode;\n",
        "}\n",
        "\n",
        "//vim mode requires an extra little bit of javascript, so let's fetch that\n",
        "$.getScript(\"/static/components/codemirror/keymap/vim.js\", function() {to('vim');} );\n"
       ],
       "metadata": {},
       "output_type": "display_data",
       "text": [
        "<IPython.core.display.Javascript at 0x22cd110>"
       ]
      }
     ],
     "prompt_number": 102
    },
    {
     "cell_type": "markdown",
     "metadata": {},
     "source": [
      "If we decide we don't like this, or if we've got a colleague who's a mere mortal, we can switch the mode back for them with:\n",
      "```javascript\n",
      "    %%javascript\n",
      "    to('default');\n",
      "    \n",
      "```\n",
      "<sub>\n",
      "(see my earlier caveat about %%javascript cells if you see  \"Javascript error adding output! ReferenceError: to is not defined See your browser Javascript console for more details.\")\n",
      "\n",
      "Here's a little helper function that will print into your browser's javascript \n",
      "console you the current modes of all cells in this notebook."
     ]
    },
    {
     "cell_type": "code",
     "collapsed": false,
     "input": [
      "%%javascript\n",
      "console.log(\n",
      "    IPython.notebook.get_cells().map(\n",
      "        function(x) { \n",
      "            return x.code_mirror.options.keyMap; \n",
      "        }\n",
      "    )\n",
      ");\n"
     ],
     "language": "python",
     "metadata": {},
     "outputs": [
      {
       "javascript": [
        "console.log(\n",
        "    IPython.notebook.get_cells().map(\n",
        "        function(x) { \n",
        "            return x.code_mirror.options.keyMap; \n",
        "        }\n",
        "    )\n",
        ");"
       ],
       "metadata": {},
       "output_type": "display_data",
       "text": [
        "<IPython.core.display.Javascript at 0x22cd1d0>"
       ]
      }
     ],
     "prompt_number": 94
    },
    {
     "cell_type": "markdown",
     "metadata": {},
     "source": [
      "### CodeMirror vim mode warts\n",
      "#### None of the following goodies work\n",
      "\n",
      "- searching via `/` and `?` \n",
      "    - (though there's a [search addon](http://codemirror.net/demo/search.html)), that just doesn't play nicely with dialogs, since dialogs blur our cells, so the notebook enters command mode.\n",
      "- autowrapping or formatting via `gq`\n",
      "- ctrl-w for deleting a word (CM)\n",
      "- ctrl-n and ctrl-p for in-buffer completion (there's an IPython workaround for this)\n",
      "- ctrl-v visual-block mode is not implemented\n",
      "- middle-click paste doesn't work in X11, though yanking text does place it in the clipboard\n",
      "- ctrl-y and ctrl-e for copying character from line above and below\n",
      "http://codemirror.net/doc/manual.html"
     ]
    },
    {
     "cell_type": "code",
     "collapsed": false,
     "input": [
      "\n",
      "- ctrl-n and ctrl-p for in-buffer completion (there's an IPython workaround for this)\n",
      "- ctrl-v visual-block mode is not implemented\n",
      "\n",
      "- ctrl-n and ctrl-p for in-buffer completion (there's an IPython workaround for this)\n",
      "- ctrl-v visual-block mode is not implemented\n"
     ],
     "language": "python",
     "metadata": {},
     "outputs": []
    },
    {
     "cell_type": "code",
     "collapsed": false,
     "input": [
      "\n",
      "- ctrl-n and ctrl-p for in-buffer completion (there's an IPython workaround for this)\n",
      "- ctrl-v visual-block mode is not implemented\n",
      "$"
     ],
     "language": "python",
     "metadata": {},
     "outputs": []
    },
    {
     "cell_type": "code",
     "collapsed": false,
     "input": [],
     "language": "python",
     "metadata": {},
     "outputs": []
    },
    {
     "cell_type": "code",
     "collapsed": false,
     "input": [
      "%%javascript\n",
      "\n",
      "$.getScript(\"/static/components/codemirror/addon/search/search.js\");\n",
      "$.getScript(\"/static/components/codemirror/addon/search/searchcursor.js\");\n",
      "// WARNING\n",
      "//$.getScript(\"/static/components/codemirror/addon/dialog/dialog.js\");\n",
      "//$.getScript(\"/static/components/codemirror/addon/dialog/dialog.css\");\n"
     ],
     "language": "python",
     "metadata": {},
     "outputs": [
      {
       "javascript": [
        "\n",
        "$.getScript(\"/static/components/codemirror/addon/search/search.js\");\n",
        "$.getScript(\"/static/components/codemirror/addon/search/searchcursor.js\");\n",
        "// WARNING\n",
        "$.getScript(\"/static/components/codemirror/addon/dialog/dialog.js\");\n",
        "$.getScript(\"/static/components/codemirror/addon/dialog/dialog.css\");"
       ],
       "metadata": {},
       "output_type": "display_data",
       "text": [
        "<IPython.core.display.Javascript at 0x268a350>"
       ]
      }
     ],
     "prompt_number": 63
    },
    {
     "cell_type": "markdown",
     "metadata": {},
     "source": [
      ":w\n",
      "---\n",
      "Yes, muscle memory can be a tough mistress.\n",
      "\n",
      "Luckily, we're control freaks, and we can change the world to suit our muscle memory."
     ]
    },
    {
     "cell_type": "code",
     "collapsed": false,
     "input": [
      "%%javascript\n",
      "\n",
      "// we'll add shortcuts here as we go along\n",
      "var vi_keys = {};\n",
      "var edit = IPython.keyboard_manager.edit_shortcuts;\n",
      "var def_edit = IPython.default_edit_shortcuts['esc'];\n",
      "var cmd = IPython.keyboard_manager.command_shortcuts;\n",
      "\n",
      "vi_keys[':+w'] =  IPython.default_edit_shortcuts['s'];\n",
      "edit.add_shortcuts(vi_keys);\n",
      "// 'i' by default interrupts the kernel (what Ctrl-C does at the terminal)\n",
      "cmd.remove_shortcut('i');\n"
     ],
     "language": "python",
     "metadata": {},
     "outputs": [
      {
       "javascript": [
        "\n",
        "// we'll add shortcuts here as we go along\n",
        "var vi_keys = {};\n",
        "var edit = IPython.keyboard_manager.edit_shortcuts;\n",
        "var def_edit = IPython.default_edit_shortcuts['esc'];\n",
        "var cmd = IPython.keyboard_manager.command_shortcuts;\n",
        "\n",
        "vi_keys[':+w'] =  IPython.default_edit_shortcuts['s'];\n",
        "edit.add_shortcuts(vi_keys);\n",
        "// 'i' by default interrupts the kernel (what Ctrl-C does at the terminal)\n",
        "cmd.remove_shortcut('i');"
       ],
       "metadata": {},
       "output_type": "display_data",
       "text": [
        "<IPython.core.display.Javascript at 0x2206310>"
       ]
      }
     ],
     "prompt_number": 12
    },
    {
     "cell_type": "markdown",
     "metadata": {},
     "source": [
      "dogfooding\n",
      "-----------\n",
      "\n",
      "this post was written in the notebook, and I addressed the things I found problemetic as I went along \n",
      "```\n",
      "TODO:\n",
      "[x] ctrl-[ to enter escape mode\n",
      "   [ ] check if we're in code-mirror insert mode, then no-op, and let CM handle the transition.\n",
      "[ ] cw in a vim command mode broken in notebook only (i think)\n",
      "[ ] j and k and bottom and top lines to transition to next cell?\n",
      "[ ] swap 'a' with 'b' and make 'b' be 'i'\n",
      "[ ] 'y' at the command level to copy a cell\n",
      "[ ] 'p' to paste a cell\n",
      "[ ] 'J' for what 'M' currently does (to merge)\n",
      "\n",
      "[ ] on 'blur' of CM, leave insert mode as per suggestion?\n",
      "[ ] <enter> should execute? \n",
      "[ ] 'i' should do <enter>'s behavior\n",
      "[ ] get rid of default 'i' binding, and enter edit mode and insert mode in the notebook\n",
      "[ ] :e functionality\n",
      "[ ] u for undo (caveat! only one level of undo)\n",
      "[ ] ':' has dialog pop-up in codemirror that doesn't quite work anymore in the notebook\n",
      "    Object has no method save\n",
      "    - ':' does have implementation [here](http://codemirror.net/demo/vim.html) (via inclusion of dialog?)\n",
      "    \n",
      "[ ] move the notification area for the whole notebook to bottom right\n",
      "``` "
     ]
    },
    {
     "cell_type": "code",
     "collapsed": false,
     "input": [
      "from IPython.display import Javascript, display, HTML\n",
      "\n",
      "t = \"\"\"var help = IPython.quick_help.build_{0}_help();\n",
      "help.children().first().remove();\n",
      "this.append_output({{output_type: 'display_data', html: help.html()}});\"\"\"\n",
      "\n",
      "def display_command_shortcuts():\n",
      "    display(Javascript(t.format('command')))\n",
      "\n",
      "def display_edit_shortcuts():\n",
      "    display(Javascript(t.format('edit')))\n",
      "\n",
      "display(HTML(\"\"\"\n",
      "<style>\n",
      ".shortcut_key {display: inline-block; width: 15ex; text-align: right; font-family: monospace;}\n",
      ".shortcut_descr {display: inline-block;}\n",
      "div.quickhelp {float: none; width: 100%;}\n",
      "</style>\n",
      "\"\"\"))\n",
      "\n"
     ],
     "language": "python",
     "metadata": {},
     "outputs": [
      {
       "html": [
        "\n",
        "<style>\n",
        ".shortcut_key {display: inline-block; width: 15ex; text-align: right; font-family: monospace;}\n",
        ".shortcut_descr {display: inline-block;}\n",
        "div.quickhelp {float: none; width: 100%;}\n",
        "</style>\n"
       ],
       "metadata": {},
       "output_type": "display_data",
       "text": [
        "<IPython.core.display.HTML at 0x22cda10>"
       ]
      }
     ],
     "prompt_number": 95
    },
    {
     "cell_type": "code",
     "collapsed": false,
     "input": [
      "%%javascript\n",
      "// NB - this is one of my failed attempts\n",
      "edit.add_shortcut('ctrl+[', function(e) { IPython.notebook.command_mode(); });"
     ],
     "language": "python",
     "metadata": {},
     "outputs": [
      {
       "javascript": [
        "edit.add_shortcut('ctrl+[', function(e) { IPython.notebook.command_mode(); });"
       ],
       "metadata": {},
       "output_type": "display_data",
       "text": [
        "<IPython.core.display.Javascript at 0x268a450>"
       ]
      }
     ],
     "prompt_number": 132
    }
   ],
   "metadata": {}
  }
 ]
}