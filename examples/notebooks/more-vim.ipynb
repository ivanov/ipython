{
 "metadata": {
  "name": ""
 },
 "nbformat": 3,
 "nbformat_minor": 0,
 "worksheets": [
  {
   "cells": [
    {
     "cell_type": "code",
     "collapsed": false,
     "input": [
      "\n"
     ],
     "language": "python",
     "metadata": {},
     "outputs": [],
     "prompt_number": 95
    },
    {
     "cell_type": "markdown",
     "metadata": {},
     "source": [
      "more vim!\n",
      "=========\n",
      "\n",
      "\n",
      "\n"
     ]
    },
    {
     "cell_type": "code",
     "collapsed": false,
     "input": [
      "\n"
     ],
     "language": "python",
     "metadata": {},
     "outputs": [],
     "prompt_number": 95
    },
    {
     "cell_type": "code",
     "collapsed": false,
     "input": [],
     "language": "python",
     "metadata": {},
     "outputs": [],
     "prompt_number": 95
    },
    {
     "cell_type": "markdown",
     "metadata": {},
     "source": [
      "Most important - entering command mode\n",
      "---\n",
      "\n",
      "One of the most important keys is how you get to command mode. Indeed, it's not\n",
      "so much how you get into command mode, as it is how you  **escape** from other\n",
      "modes ;) \n",
      "\n",
      "By default, `Esc` will enter command mode, but the more seasoned vim users have some tricks up their sleeves to not have to move our hands all the way to the corner of the keyboard. As far as *I'm* concerned, the **right** way is to rebind your `Caps` key to be another `Ctrl`, and then type `Ctrl-[`, which is the equivalent of `Esc` in the terminal.\n",
      "\n",
      "you'll note that `Ctrl-[` works in codemirror that's in, but it doesn't work in the notebook.\n"
     ]
    },
    {
     "cell_type": "code",
     "collapsed": false,
     "input": [],
     "language": "python",
     "metadata": {},
     "outputs": [],
     "prompt_number": 80
    },
    {
     "cell_type": "markdown",
     "metadata": {},
     "source": [
      "This is a markdown cell which contains script tags and the bits of code which will be reused in the cells which follow.\n",
      "\n",
      "```javascript\n",
      "var edit = IPython.keyboard_manager.edit_shortcuts;\n",
      "var def_edit = IPython.default_edit_shortcuts;\n",
      "var cmd = IPython.keyboard_manager.command_shortcuts;\n",
      "```\n",
      "<script>\n",
      "var edit = IPython.keyboard_manager.edit_shortcuts;\n",
      "var def_edit = IPython.default_edit_shortcuts;\n",
      "var cmd = IPython.keyboard_manager.command_shortcuts;\n",
      "    function C() { return IPython.notebook.get_selected_cell().code_mirror; };\n",
      "function to(mode) {\n",
      "    var mode = mode || 'vim'\n",
      "    // first let's apply vim mode to all current cells\n",
      "    function to_mode(c) { return c.code_mirror.setOption('keyMap', mode);};\n",
      "    IPython.notebook.get_cells().map(to_mode);\n",
      "    // apply the mode to future cells created\n",
      "    IPython.Cell.options_default.cm_config.keyMap = mode;\n",
      "}\n",
      "$.getScript(\"/static/components/codemirror/keymap/vim.js\")\n",
      "\n",
      "</script>"
     ]
    },
    {
     "cell_type": "code",
     "collapsed": false,
     "input": [
      "%%javascript\n",
      "to('vim')"
     ],
     "language": "python",
     "metadata": {},
     "outputs": [
      {
       "javascript": [
        "to('vim')"
       ],
       "metadata": {},
       "output_type": "display_data",
       "text": [
        "<IPython.core.display.Javascript at 0x2682dd0>"
       ]
      }
     ],
     "prompt_number": 9
    },
    {
     "cell_type": "code",
     "collapsed": false,
     "input": [
      "%%javascript\n",
      "to('default')"
     ],
     "language": "python",
     "metadata": {},
     "outputs": [
      {
       "javascript": [
        "to('default')"
       ],
       "metadata": {},
       "output_type": "display_data",
       "text": [
        "<IPython.core.display.Javascript at 0x22cd1d0>"
       ]
      }
     ],
     "prompt_number": 115
    },
    {
     "cell_type": "code",
     "collapsed": false,
     "input": [
      "%%javascript\n",
      "C().on('vim-mode-change', function() { console.log(\"mode is now\", C().options.keyMap); })"
     ],
     "language": "python",
     "metadata": {},
     "outputs": [
      {
       "javascript": [
        "C().on('vim-mode-change', function() { console.log(\"mode is now\", C().options.keyMap); })"
       ],
       "metadata": {},
       "output_type": "display_data",
       "text": [
        "<IPython.core.display.Javascript at 0x2682fd0>"
       ]
      }
     ],
     "prompt_number": 6
    },
    {
     "cell_type": "code",
     "collapsed": false,
     "input": [
      "%%javascript\n",
      "\n",
      "// we'll add shortcuts here as we go along *\n",
      "var ours = {};\n",
      "var edit = IPython.keyboard_manager.edit_shortcuts;\n",
      "var def_edit = IPython.default_edit_shortcuts;\n",
      "var cmd = IPython.keyboard_manager.command_shortcuts;\n",
      "\n",
      "function escape(event) {\n",
      "    console.log(\"got \", event);\n",
      "    var cm = IPython.notebook.get_selected_cell().code_mirror;\n",
      "    console.log(\"cm \", cm);\n",
      "    console.log(cm.options.keyMap);\n",
      "    if ( cm.options.keyMap !== 'vim' ) {\n",
      "        return def_edit['esc'].handler(event);\n",
      "    }\n",
      "    return true;\n",
      "}\n",
      "ours['ctrl+['] = escape;\n",
      "edit.add_shortcuts(ours); \n",
      "\n",
      "//there's a problem here, Ctrl-[ already handled by CodeMirror by the time we get it\n",
      "// CodeMirror issues signals on mode change\n",
      "\n",
      "// 'i' by default interrupts the kernel (what Ctrl-C does at the terminal)\n",
      "cmd.remove_shortcut('i');\n"
     ],
     "language": "python",
     "metadata": {},
     "outputs": [
      {
       "javascript": [
        "\n",
        "// we'll add shortcuts here as we go along *\n",
        "var ours = {};\n",
        "var edit = IPython.keyboard_manager.edit_shortcuts;\n",
        "var def_edit = IPython.default_edit_shortcuts;\n",
        "var cmd = IPython.keyboard_manager.command_shortcuts;\n",
        "\n",
        "function escape(event) {\n",
        "    console.log(\"got \", event);\n",
        "    var cm = IPython.notebook.get_selected_cell().code_mirror;\n",
        "    console.log(\"cm \", cm);\n",
        "    console.log(cm.options.keyMap);\n",
        "    //there's a problem here, Ctrl-[ already handled by CodeMirror by the time we get here\n",
        "    if ( cm.options.keyMap !== 'vim' ) {\n",
        "        return def_edit['esc'].handler(event);\n",
        "    }\n",
        "    return true;\n",
        "}\n",
        "ours['ctrl+['] = escape;\n",
        "edit.add_shortcuts(ours); \n",
        "// 'i' by default interrupts the kernel (what Ctrl-C does at the terminal)\n",
        "cmd.remove_shortcut('i');"
       ],
       "metadata": {},
       "output_type": "display_data",
       "text": [
        "<IPython.core.display.Javascript at 0x22cd390>"
       ]
      }
     ],
     "prompt_number": 111
    },
    {
     "cell_type": "code",
     "collapsed": false,
     "input": [
      "%%javascript\n",
      "edit.remove_shortcut('ctrl+[');"
     ],
     "language": "python",
     "metadata": {},
     "outputs": [
      {
       "javascript": [
        "edit.remove_shortcut('ctrl+[');"
       ],
       "metadata": {},
       "output_type": "display_data",
       "text": [
        "<IPython.core.display.Javascript at 0x22cd390>"
       ]
      }
     ],
     "prompt_number": 107
    },
    {
     "cell_type": "markdown",
     "metadata": {},
     "source": [
      "nested vi-like interfaces\n",
      "-----------\n",
      "\n",
      "With the modal UI merged in IPython, we now have the ability to make the notebook experience more vi-like.\n",
      "\n",
      "Now, let's put CodeMirror into vim mode, for an experience [sjobeek](https://github.com/sjobeek) has coined as [\"vimception\"](https://github.com/ipython/ipython/issues/4798)\n"
     ]
    },
    {
     "cell_type": "code",
     "collapsed": false,
     "input": [
      "%%javascript\n",
      "\n",
      "            \n",
      "function to(mode) {\n",
      "    var mode = mode || 'vim'\n",
      "    // first let's apply vim mode to all current cells\n",
      "    function to_mode(c) { return c.code_mirror.setOption('keyMap', mode);};\n",
      "    IPython.notebook.get_cells().map(to_mode);\n",
      "    // apply the mode to future cells created\n",
      "    IPython.Cell.options_default.cm_config.keyMap = mode;\n",
      "}\n",
      "\n",
      "//vim mode requires an extra little bit of javascript, so let's fetch that\n",
      "$.getScript(\"/static/components/codemirror/keymap/vim.js\", function() {to('vim');} );\n",
      "\n"
     ],
     "language": "python",
     "metadata": {},
     "outputs": [
      {
       "javascript": [
        "\n",
        "            \n",
        "function to(mode) {\n",
        "    var mode = mode || 'vim'\n",
        "    // first let's apply vim mode to all current cells\n",
        "    function to_mode(c) { return c.code_mirror.setOption('keyMap', mode);};\n",
        "    IPython.notebook.get_cells().map(to_mode);\n",
        "    // apply the mode to future cells created\n",
        "    IPython.Cell.options_default.cm_config.keyMap = mode;\n",
        "}\n",
        "\n",
        "//vim mode requires an extra little bit of javascript, so let's fetch that\n",
        "$.getScript(\"/static/components/codemirror/keymap/vim.js\", function() {to('vim');} );\n"
       ],
       "metadata": {},
       "output_type": "display_data",
       "text": [
        "<IPython.core.display.Javascript at 0x22cd110>"
       ]
      }
     ],
     "prompt_number": 102
    },
    {
     "cell_type": "markdown",
     "metadata": {},
     "source": [
      "If we decide we don't like this, or if we've got a colleague who's a mere mortal, we can switch the mode back for them with:\n",
      "```javascript\n",
      "    %%javascript\n",
      "    to('default');\n",
      "    \n",
      "```\n",
      "<sub>\n",
      "(see my earlier caveat about %%javascript cells if you see  \"Javascript error adding output! ReferenceError: to is not defined See your browser Javascript console for more details.\")\n",
      "\n",
      "Here's a little helper function that will print into your browser's javascript \n",
      "console you the current modes of all cells in this notebook."
     ]
    },
    {
     "cell_type": "code",
     "collapsed": false,
     "input": [
      "%%javascript\n",
      "console.log(\n",
      "    IPython.notebook.get_cells().map(\n",
      "        function(x) { \n",
      "            return x.code_mirror.options.keyMap; \n",
      "        }\n",
      "    )\n",
      ");\n"
     ],
     "language": "python",
     "metadata": {},
     "outputs": [
      {
       "javascript": [
        "console.log(\n",
        "    IPython.notebook.get_cells().map(\n",
        "        function(x) { \n",
        "            return x.code_mirror.options.keyMap; \n",
        "        }\n",
        "    )\n",
        ");"
       ],
       "metadata": {},
       "output_type": "display_data",
       "text": [
        "<IPython.core.display.Javascript at 0x22cd1d0>"
       ]
      }
     ],
     "prompt_number": 94
    },
    {
     "cell_type": "markdown",
     "metadata": {},
     "source": [
      "### CodeMirror vim mode warts\n",
      "#### None of the following goodies work\n",
      "\n",
      "- searching via `/` and `?` \n",
      "    - (though there's a [search addon](http://codemirror.net/demo/search.html)), that just doesn't play nicely with dialogs, since dialogs blur our cells, so the notebook enters command mode.\n",
      "- autowrapping or formatting via `gq`\n",
      "- ctrl-w for deleting a word (CM)\n",
      "- ctrl-n and ctrl-p for in-buffer completion (there's an IPython workaround for this)\n",
      "- ctrl-v visual-block mode is not implemented\n",
      "- middle-click paste doesn't work in X11, though yanking text does place it in the clipboard\n",
      "\n",
      "http://codemirror.net/doc/manual.html"
     ]
    },
    {
     "cell_type": "code",
     "collapsed": false,
     "input": [
      "\n",
      "- ctrl-n and ctrl-p for in-buffer completion (there's an IPython workaround for this)\n",
      "- ctrl-v visual-block mode is not implemented\n",
      "\n",
      "- ctrl-n and ctrl-p for in-buffer completion (there's an IPython workaround for this)\n",
      "- ctrl-v visual-block mode is not implemented\n"
     ],
     "language": "python",
     "metadata": {},
     "outputs": []
    },
    {
     "cell_type": "code",
     "collapsed": false,
     "input": [
      "\n",
      "- ctrl-n and ctrl-p for in-buffer completion (there's an IPython workaround for this)\n",
      "- ctrl-v visual-block mode is not implemented\n",
      "$"
     ],
     "language": "python",
     "metadata": {},
     "outputs": []
    },
    {
     "cell_type": "markdown",
     "metadata": {},
     "source": [
      "disable blinking in the IPython Notebook\n",
      "-----------------\n",
      "*Background: Text editing in the [IPython Notebook](http://ipython.org/notebook.html) is provided by an excellent JavaScript-based [CodeMirror](http://codemirror.net/) text editor. This might be more detail than you want, but I'm a [vision scientist](http://vision.berkeley.edu/?p=2120) so I hope you'll indulge me.*\n",
      "\n",
      "The cursor is meant to tell the user the current location.\n",
      "\n",
      "The human visual system has a pre-cortical lag of roughly 50-90 ms after ([read more about P1][1]). \n",
      "\n",
      "That's how long it takes from something changing on the screen to cause an avalanche of photons to barrel towards your eyeball, be phototransduced and processed by several stages of cells in the retina, finally causing retinal ganglion cells to fire an action potential down their axons through the optic nerve, make its way to a processing relay station called the LGN, with those cells firing action potential down *their* axons, with those spikes finally ending up in the primary visual cortex. \n",
      "\n",
      "By ~150 ms, our brains have processed the visual input enough to [perform a non-trivial ammount of object recognition][2].\n",
      "\n",
      "The default blink rate for CodeMirror is 530ms. \n",
      "\n",
      "That's **as slow as molasses in January!**. \n",
      "\n",
      "Say that I've been distracted and looked away from the screen. When I look back at the scree, half of the time it will take **3 times longer** for me to get the information that I want (\"where's my cursor\") than if that cursor was clearly visible at all times. Now it's not always that bad, because sometimes my gaze will land on the screen and even though the cursor isn't visible, it appears in a few milliseconds, and so it takes **just as long** as if the cursor was there the whole time. But if I happen to be particularly unlucky (there's a reason I don't gamble), it can take **6 times longer**.\n",
      "\n",
      "## Try it out\n",
      "\n",
      "Here's the code you need to disable blinking in CodeMirror.\n",
      "\n",
      "    CodeMirror.defaults.cursorBlinkRate=0\n",
      "\n",
      "If you type that into the Javascript Console of your webbrowser, that setting will apply to all cells created in the current IPython Notebook. If you don't know how to open your browser's Javascript console, don't frett, just make a new cell with just the following lines in there, execute it, and make a new cell to see how you like it.\n",
      "\n",
      "    %%javascript\n",
      "    CodeMirror.defaults.cursorBlinkRate=0\n",
      "\n",
      "## Make the change stick\n",
      "\n",
      "IPython has a notion of profiles to allow for different kinds of configurations. If this is news to you, you've probably just been using the `default` profile and not known it. In the shell, run the ``ipython profile create`` command to be sure (don't worry, if you alreay have a profile, this won't overwrite it). Now ``ipython locate profile`` will tell you the directory which contains all of the configuration for the `default` profile."
     ]
    },
    {
     "cell_type": "code",
     "collapsed": false,
     "input": [
      "!ipython profile create"
     ],
     "language": "python",
     "metadata": {},
     "outputs": [
      {
       "output_type": "stream",
       "stream": "stdout",
       "text": [
        "[ProfileCreate] Generating default config file: u'/home/pi/.ipython/profile_default/ipython_config.py'\r\n",
        "[ProfileCreate] Generating default config file: u'/home/pi/.ipython/profile_default/ipython_notebook_config.py'\r\n"
       ]
      },
      {
       "output_type": "stream",
       "stream": "stdout",
       "text": [
        "[ProfileCreate] Generating default config file: u'/home/pi/.ipython/profile_default/ipython_nbconvert_config.py'\r\n"
       ]
      }
     ],
     "prompt_number": 22
    },
    {
     "cell_type": "code",
     "collapsed": false,
     "input": [
      "!ipython locate profile"
     ],
     "language": "python",
     "metadata": {},
     "outputs": [
      {
       "output_type": "stream",
       "stream": "stdout",
       "text": [
        "/home/pi/.ipython/profile_default\r\n"
       ]
      }
     ],
     "prompt_number": 29
    },
    {
     "cell_type": "code",
     "collapsed": false,
     "input": [
      "x = !ipython locate profile\n"
     ],
     "language": "python",
     "metadata": {},
     "outputs": [],
     "prompt_number": 32
    },
    {
     "cell_type": "code",
     "collapsed": false,
     "input": [],
     "language": "python",
     "metadata": {},
     "outputs": []
    },
    {
     "cell_type": "markdown",
     "metadata": {},
     "source": [
      "## \"I wanht it all and I want it now!\"\n",
      "\n",
      "Well, OK, Freddie:\n",
      "\n",
      "```javascript\n",
      "%%javascript\n",
      "var rate = 0;\n",
      "// apply setting to  all current CodeMirror instances\n",
      "IPython.notebook.get_cells().map(\n",
      "    function(c) {  return c.code_mirror.options.cursorBlinkRate=rate;  }\n",
      ");\n",
      "\n",
      "// make sure new CodeMirror instance also use this setting\n",
      "CodeMirror.defaults.cursorBlinkRate=rate;\n",
      "```\n",
      "   \n",
      "[1]: http://en.wikipedia.org/wiki/C1_%26_P1_(Neuroscience)\n",
      "[2]: http://www.ncbi.nlm.nih.gov/pubmed/8632824"
     ]
    },
    {
     "cell_type": "code",
     "collapsed": false,
     "input": [
      "%%javascript\n",
      "var rate = 0;\n",
      "// apply setting to  all current CodeMirror instances\n",
      "IPython.notebook.get_cells().map(\n",
      "    function(c) {  return c.code_mirror.options.cursorBlinkRate=rate;  }\n",
      ");\n",
      "\n",
      "// make sure new CodeMirror instance also use this setting\n",
      "CodeMirror.defaults.cursorBlinkRate=rate;"
     ],
     "language": "python",
     "metadata": {},
     "outputs": [
      {
       "javascript": [
        "var rate = 0;\n",
        "// apply setting to  all current CodeMirror instances\n",
        "IPython.notebook.get_cells().map(\n",
        "    function(c) {  return c.code_mirror.options.cursorBlinkRate=rate;  }\n",
        ");\n",
        "\n",
        "// make sure new CodeMirror instance also use this setting\n",
        "CodeMirror.defaults.cursorBlinkRate=rate;"
       ],
       "metadata": {},
       "output_type": "display_data",
       "text": [
        "<IPython.core.display.Javascript at 0x2682b10>"
       ]
      }
     ],
     "prompt_number": 17
    },
    {
     "cell_type": "code",
     "collapsed": false,
     "input": [],
     "language": "python",
     "metadata": {},
     "outputs": []
    },
    {
     "cell_type": "markdown",
     "metadata": {},
     "source": [
      "1. Bare             - http://example.com/test(1).html\n",
      "2. Bare, encoded    - http://example.com/test%281%29.html\n",
      "3. Delimited        - <http://example.com/test(1).html>\n",
      "4. Hyperlink        - with <a href=\"http://example.com/test(1).html\">parens</a>\n",
      "5. Markdown Link #1 - with [parens][1]\n",
      "6. Markdown Link #1 - with [parens at end][2]\n",
      "7. Markdown Link #2 - with [parens](http://example.com/test(1).html)\n",
      "8. Markdown Link #2 - with [parens at end](http://example.com/test(1))  "
     ]
    },
    {
     "cell_type": "code",
     "collapsed": false,
     "input": [],
     "language": "python",
     "metadata": {},
     "outputs": []
    },
    {
     "cell_type": "code",
     "collapsed": false,
     "input": [
      "%%javascript\n",
      "\n",
      "$.getScript(\"/static/components/codemirror/addon/search/search.js\");\n",
      "$.getScript(\"/static/components/codemirror/addon/search/searchcursor.js\");\n",
      "// WARNING\n",
      "$.getScript(\"/static/components/codemirror/addon/dialog/dialog.js\");\n",
      "$.getScript(\"/static/components/codemirror/addon/dialog/dialog.css\");\n"
     ],
     "language": "python",
     "metadata": {},
     "outputs": [
      {
       "javascript": [
        "\n",
        "$.getScript(\"/static/components/codemirror/addon/search/search.js\");\n",
        "$.getScript(\"/static/components/codemirror/addon/search/searchcursor.js\");\n",
        "// WARNING\n",
        "$.getScript(\"/static/components/codemirror/addon/dialog/dialog.js\");\n",
        "$.getScript(\"/static/components/codemirror/addon/dialog/dialog.css\");"
       ],
       "metadata": {},
       "output_type": "display_data",
       "text": [
        "<IPython.core.display.Javascript at 0x2682dd0>"
       ]
      }
     ],
     "prompt_number": 12
    },
    {
     "cell_type": "markdown",
     "metadata": {},
     "source": [
      ":w\n",
      "---\n",
      "Yes, muscle memory can be a tough mistress.\n",
      "\n",
      "Luckily, we're control freaks, and we can change the world to suit our muscle memory."
     ]
    },
    {
     "cell_type": "code",
     "collapsed": false,
     "input": [
      "%%javascript\n",
      "\n",
      "// we'll add shortcuts here as we go along\n",
      "var vi_keys = {};\n",
      "var edit = IPython.keyboard_manager.edit_shortcuts;\n",
      "var def_edit = IPython.default_edit_shortcuts['esc'];\n",
      "var cmd = IPython.keyboard_manager.command_shortcuts;\n",
      "\n",
      "vi_keys[':+w'] =  IPython.default_edit_shortcuts['s'];\n",
      "edit.add_shortcuts(vi_keys);\n",
      "// 'i' by default interrupts the kernel (what Ctrl-C does at the terminal)\n",
      "cmd.remove_shortcut('i');\n"
     ],
     "language": "python",
     "metadata": {},
     "outputs": [
      {
       "javascript": [
        "\n",
        "// we'll add shortcuts here as we go along\n",
        "var vi_keys = {};\n",
        "var edit = IPython.keyboard_manager.edit_shortcuts;\n",
        "var def_edit = IPython.default_edit_shortcuts['esc'];\n",
        "var cmd = IPython.keyboard_manager.command_shortcuts;\n",
        "\n",
        "vi_keys[':+w'] =  IPython.default_edit_shortcuts['s'];\n",
        "edit.add_shortcuts(vi_keys);\n",
        "// 'i' by default interrupts the kernel (what Ctrl-C does at the terminal)\n",
        "cmd.remove_shortcut('i');"
       ],
       "metadata": {},
       "output_type": "display_data",
       "text": [
        "<IPython.core.display.Javascript at 0x2206310>"
       ]
      }
     ],
     "prompt_number": 12
    },
    {
     "cell_type": "markdown",
     "metadata": {},
     "source": [
      "dogfooding\n",
      "-----------\n",
      "\n",
      "this post was written in the notebook, and I addressed the things I found problemetic as I went along \n",
      "```\n",
      "TODO:\n",
      "[x] ctrl-[ to enter escape mode\n",
      "   [ ] check if we're in code-mirror insert mode, then no-op, and let CM handle the transition.\n",
      "[ ] j and k and bottom and top lines to transition to next cell?\n",
      "[ ] swap 'a' with 'b' and make 'b' be 'i'\n",
      "[ ] 'y' at the command level to copy a cell\n",
      "[ ] 'p' to paste a cell\n",
      "[ ] 'J' for what 'M' currently does (to merge)\n",
      "\n",
      "[ ] on 'blur' of CM, leave insert mode as per suggestion?\n",
      "[ ] <enter> should execute? \n",
      "[ ] 'i' should do <enter>'s behavior\n",
      "[ ] get rid of default 'i' binding, and enter edit mode and insert mode in the notebook\n",
      "[ ] :e functionality\n",
      "[ ] u for undo (caveat! only one level of undo)\n",
      "[ ] ':' has dialog pop-up in codemirror that doesn't quite work anymore in the notebook\n",
      "    Object has no method save\n",
      "    - ':' does have implementation [here](http://codemirror.net/demo/vim.html) (via inclusion of dialog?)\n",
      "    \n",
      "[ ] move the notification area for the whole notebook to bottom right\n",
      "``` "
     ]
    },
    {
     "cell_type": "code",
     "collapsed": false,
     "input": [
      "from IPython.display import Javascript, display, HTML\n",
      "\n",
      "t = \"\"\"var help = IPython.quick_help.build_{0}_help();\n",
      "help.children().first().remove();\n",
      "this.append_output({{output_type: 'display_data', html: help.html()}});\"\"\"\n",
      "\n",
      "def display_command_shortcuts():\n",
      "    display(Javascript(t.format('command')))\n",
      "\n",
      "def display_edit_shortcuts():\n",
      "    display(Javascript(t.format('edit')))\n",
      "\n",
      "display(HTML(\"\"\"\n",
      "<style>\n",
      ".shortcut_key {display: inline-block; width: 15ex; text-align: right; font-family: monospace;}\n",
      ".shortcut_descr {display: inline-block;}\n",
      "div.quickhelp {float: none; width: 100%;}\n",
      "</style>\n",
      "\"\"\"))\n",
      "\n"
     ],
     "language": "python",
     "metadata": {},
     "outputs": [
      {
       "html": [
        "\n",
        "<style>\n",
        ".shortcut_key {display: inline-block; width: 15ex; text-align: right; font-family: monospace;}\n",
        ".shortcut_descr {display: inline-block;}\n",
        "div.quickhelp {float: none; width: 100%;}\n",
        "</style>\n"
       ],
       "metadata": {},
       "output_type": "display_data",
       "text": [
        "<IPython.core.display.HTML at 0x22cda10>"
       ]
      }
     ],
     "prompt_number": 95
    }
   ],
   "metadata": {}
  }
 ]
}